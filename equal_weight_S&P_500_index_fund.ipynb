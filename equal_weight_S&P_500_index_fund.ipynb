{
 "cells": [
  {
   "cell_type": "markdown",
   "metadata": {},
   "source": [
    "# Equal-Weight S&P 500 Index Fund"
   ]
  },
  {
   "cell_type": "code",
   "execution_count": 1,
   "metadata": {},
   "outputs": [],
   "source": [
    "import numpy as np\r\n",
    "import pandas as pd\r\n",
    "import requests\r\n",
    "import xlsxwriter\r\n",
    "import math"
   ]
  },
  {
   "cell_type": "code",
   "execution_count": 2,
   "metadata": {},
   "outputs": [],
   "source": [
    "stocks = pd.read_csv('sp_500_stocks.csv')"
   ]
  },
  {
   "cell_type": "code",
   "execution_count": 3,
   "metadata": {},
   "outputs": [
    {
     "data": {
      "text/html": [
       "<div>\n",
       "<style scoped>\n",
       "    .dataframe tbody tr th:only-of-type {\n",
       "        vertical-align: middle;\n",
       "    }\n",
       "\n",
       "    .dataframe tbody tr th {\n",
       "        vertical-align: top;\n",
       "    }\n",
       "\n",
       "    .dataframe thead th {\n",
       "        text-align: right;\n",
       "    }\n",
       "</style>\n",
       "<table border=\"1\" class=\"dataframe\">\n",
       "  <thead>\n",
       "    <tr style=\"text-align: right;\">\n",
       "      <th></th>\n",
       "      <th>Ticker</th>\n",
       "    </tr>\n",
       "  </thead>\n",
       "  <tbody>\n",
       "    <tr>\n",
       "      <th>0</th>\n",
       "      <td>A</td>\n",
       "    </tr>\n",
       "    <tr>\n",
       "      <th>1</th>\n",
       "      <td>AAL</td>\n",
       "    </tr>\n",
       "    <tr>\n",
       "      <th>2</th>\n",
       "      <td>AAP</td>\n",
       "    </tr>\n",
       "    <tr>\n",
       "      <th>3</th>\n",
       "      <td>AAPL</td>\n",
       "    </tr>\n",
       "    <tr>\n",
       "      <th>4</th>\n",
       "      <td>ABBV</td>\n",
       "    </tr>\n",
       "    <tr>\n",
       "      <th>...</th>\n",
       "      <td>...</td>\n",
       "    </tr>\n",
       "    <tr>\n",
       "      <th>500</th>\n",
       "      <td>YUM</td>\n",
       "    </tr>\n",
       "    <tr>\n",
       "      <th>501</th>\n",
       "      <td>ZBH</td>\n",
       "    </tr>\n",
       "    <tr>\n",
       "      <th>502</th>\n",
       "      <td>ZBRA</td>\n",
       "    </tr>\n",
       "    <tr>\n",
       "      <th>503</th>\n",
       "      <td>ZION</td>\n",
       "    </tr>\n",
       "    <tr>\n",
       "      <th>504</th>\n",
       "      <td>ZTS</td>\n",
       "    </tr>\n",
       "  </tbody>\n",
       "</table>\n",
       "<p>505 rows × 1 columns</p>\n",
       "</div>"
      ],
      "text/plain": [
       "    Ticker\n",
       "0        A\n",
       "1      AAL\n",
       "2      AAP\n",
       "3     AAPL\n",
       "4     ABBV\n",
       "..     ...\n",
       "500    YUM\n",
       "501    ZBH\n",
       "502   ZBRA\n",
       "503   ZION\n",
       "504    ZTS\n",
       "\n",
       "[505 rows x 1 columns]"
      ]
     },
     "execution_count": 3,
     "metadata": {},
     "output_type": "execute_result"
    }
   ],
   "source": [
    "stocks"
   ]
  },
  {
   "cell_type": "code",
   "execution_count": 4,
   "metadata": {},
   "outputs": [],
   "source": [
    "from secrets import IEX_CLOUD_API_TOKEN"
   ]
  },
  {
   "cell_type": "code",
   "execution_count": 5,
   "metadata": {},
   "outputs": [
    {
     "data": {
      "text/plain": [
       "{'symbol': 'AAPL',\n",
       " 'companyName': 'Apple Inc',\n",
       " 'primaryExchange': ' KACT)DRAG(S/B QLMNASLAEESEL OGTN',\n",
       " 'calculationPrice': 'tops',\n",
       " 'open': 0,\n",
       " 'openTime': None,\n",
       " 'openSource': 'ifilofac',\n",
       " 'close': 0,\n",
       " 'closeTime': None,\n",
       " 'closeSource': 'ilaiffco',\n",
       " 'high': 0,\n",
       " 'highTime': 1631826856507,\n",
       " 'highSource': 'i pXt lemerIEe iacr',\n",
       " 'low': 0,\n",
       " 'lowTime': None,\n",
       " 'lowSource': None,\n",
       " 'latestPrice': 138.91,\n",
       " 'latestSource': 'IEX real time price',\n",
       " 'latestTime': '9:53:34 AM',\n",
       " 'latestUpdate': 1696611589240,\n",
       " 'latestVolume': None,\n",
       " 'iexRealtimePrice': 144.97,\n",
       " 'iexRealtimeSize': 100,\n",
       " 'iexLastUpdated': 1633420827589,\n",
       " 'delayedPrice': None,\n",
       " 'delayedPriceTime': None,\n",
       " 'oddLotDelayedPrice': None,\n",
       " 'oddLotDelayedPriceTime': None,\n",
       " 'extendedPrice': None,\n",
       " 'extendedChange': None,\n",
       " 'extendedChangePercent': None,\n",
       " 'extendedPriceTime': None,\n",
       " 'previousClose': 140.67,\n",
       " 'previousVolume': 52563548,\n",
       " 'change': 1.48,\n",
       " 'changePercent': 0.01089,\n",
       " 'volume': None,\n",
       " 'iexMarketPercent': 0.02036839778483837,\n",
       " 'iexVolume': 235006,\n",
       " 'avgTotalVolume': 73974044,\n",
       " 'iexBidPrice': 140,\n",
       " 'iexBidSize': 134,\n",
       " 'iexAskPrice': 145.33,\n",
       " 'iexAskSize': 102,\n",
       " 'iexOpen': 140.75,\n",
       " 'iexOpenTime': 1660795612283,\n",
       " 'iexClose': 143.65,\n",
       " 'iexCloseTime': 1627862329693,\n",
       " 'marketCap': 2426376737847,\n",
       " 'peRatio': 32.12,\n",
       " 'week52High': 145.25,\n",
       " 'week52Low': 91.59,\n",
       " 'ytdChange': 0.0109,\n",
       " 'lastTradeTime': 1661745854601,\n",
       " 'isUSMarketOpen': True}"
      ]
     },
     "execution_count": 5,
     "metadata": {},
     "output_type": "execute_result"
    }
   ],
   "source": [
    "symbol='AAPL'\r\n",
    "api_url = f'https://sandbox.iexapis.com/stable/stock/{symbol}/quote?token={IEX_CLOUD_API_TOKEN}'\r\n",
    "data = requests.get(api_url).json()\r\n",
    "data"
   ]
  },
  {
   "cell_type": "code",
   "execution_count": 6,
   "metadata": {},
   "outputs": [],
   "source": [
    "price = data['latestPrice']\r\n",
    "marketCap = data['marketCap']"
   ]
  },
  {
   "cell_type": "markdown",
   "metadata": {},
   "source": [
    "## Using Batch API Calls in order to reduce time required in the process"
   ]
  },
  {
   "cell_type": "code",
   "execution_count": 7,
   "metadata": {},
   "outputs": [],
   "source": [
    "df_columns = ['Ticker','Stock Price','Market Capitalization','Number of Shares to Buy']\r\n",
    "df = pd.DataFrame(columns = df_columns)"
   ]
  },
  {
   "cell_type": "code",
   "execution_count": 8,
   "metadata": {},
   "outputs": [],
   "source": [
    "def create_batches(x,n):\r\n",
    "    for i in range(0,len(x),n):\r\n",
    "        yield x[i:i+n]"
   ]
  },
  {
   "cell_type": "code",
   "execution_count": 9,
   "metadata": {},
   "outputs": [],
   "source": [
    "ticker_batches_list = list(create_batches(stocks['Ticker'],100))"
   ]
  },
  {
   "cell_type": "code",
   "execution_count": 10,
   "metadata": {},
   "outputs": [],
   "source": [
    "ticker_batches = list()\r\n",
    "for i in range(0, len(ticker_batches_list)):\r\n",
    "    ticker_batches.append(','.join(ticker_batches_list[i]))"
   ]
  },
  {
   "cell_type": "code",
   "execution_count": 11,
   "metadata": {},
   "outputs": [],
   "source": [
    "for batch_string in ticker_batches:\r\n",
    "    batch_api_url = f'https://sandbox.iexapis.com/stable/stock/market/batch/?types=quote&symbols={batch_string}&token={IEX_CLOUD_API_TOKEN}'\r\n",
    "\r\n",
    "    data = requests.get(batch_api_url).json()\r\n",
    "\r\n",
    "    for ticker in batch_string.split(','):\r\n",
    "        df = df.append(\r\n",
    "            pd.Series(\r\n",
    "                [\r\n",
    "                    ticker, \r\n",
    "                    data[ticker]['quote']['latestPrice'], \r\n",
    "                    data[ticker]['quote']['marketCap'], \r\n",
    "                    'N/A'\r\n",
    "                ], index = df_columns\r\n",
    "            ), ignore_index = True\r\n",
    "        )"
   ]
  },
  {
   "cell_type": "code",
   "execution_count": 12,
   "metadata": {},
   "outputs": [
    {
     "data": {
      "text/html": [
       "<div>\n",
       "<style scoped>\n",
       "    .dataframe tbody tr th:only-of-type {\n",
       "        vertical-align: middle;\n",
       "    }\n",
       "\n",
       "    .dataframe tbody tr th {\n",
       "        vertical-align: top;\n",
       "    }\n",
       "\n",
       "    .dataframe thead th {\n",
       "        text-align: right;\n",
       "    }\n",
       "</style>\n",
       "<table border=\"1\" class=\"dataframe\">\n",
       "  <thead>\n",
       "    <tr style=\"text-align: right;\">\n",
       "      <th></th>\n",
       "      <th>Ticker</th>\n",
       "      <th>Stock Price</th>\n",
       "      <th>Market Capitalization</th>\n",
       "      <th>Number of Shares to Buy</th>\n",
       "    </tr>\n",
       "  </thead>\n",
       "  <tbody>\n",
       "    <tr>\n",
       "      <th>0</th>\n",
       "      <td>A</td>\n",
       "      <td>155.080</td>\n",
       "      <td>47058647356</td>\n",
       "      <td>N/A</td>\n",
       "    </tr>\n",
       "    <tr>\n",
       "      <th>1</th>\n",
       "      <td>AAL</td>\n",
       "      <td>22.020</td>\n",
       "      <td>13697949500</td>\n",
       "      <td>N/A</td>\n",
       "    </tr>\n",
       "    <tr>\n",
       "      <th>2</th>\n",
       "      <td>AAP</td>\n",
       "      <td>213.330</td>\n",
       "      <td>13729929363</td>\n",
       "      <td>N/A</td>\n",
       "    </tr>\n",
       "    <tr>\n",
       "      <th>3</th>\n",
       "      <td>AAPL</td>\n",
       "      <td>141.249</td>\n",
       "      <td>2343545365816</td>\n",
       "      <td>N/A</td>\n",
       "    </tr>\n",
       "    <tr>\n",
       "      <th>4</th>\n",
       "      <td>ABBV</td>\n",
       "      <td>115.400</td>\n",
       "      <td>205432296870</td>\n",
       "      <td>N/A</td>\n",
       "    </tr>\n",
       "  </tbody>\n",
       "</table>\n",
       "</div>"
      ],
      "text/plain": [
       "  Ticker  Stock Price Market Capitalization Number of Shares to Buy\n",
       "0      A      155.080           47058647356                     N/A\n",
       "1    AAL       22.020           13697949500                     N/A\n",
       "2    AAP      213.330           13729929363                     N/A\n",
       "3   AAPL      141.249         2343545365816                     N/A\n",
       "4   ABBV      115.400          205432296870                     N/A"
      ]
     },
     "execution_count": 12,
     "metadata": {},
     "output_type": "execute_result"
    }
   ],
   "source": [
    "df.head()"
   ]
  },
  {
   "cell_type": "markdown",
   "metadata": {},
   "source": [
    "## Mapping the Portfolio size to position size and calculating the amount of stocks to be bought"
   ]
  },
  {
   "cell_type": "code",
   "execution_count": 13,
   "metadata": {},
   "outputs": [],
   "source": [
    "portfolio_size = input(' Enter the value of your portfolio : ')\r\n",
    "try:\r\n",
    "    value = float(portfolio_size)\r\n",
    "except ValueError:\r\n",
    "    value = float(input(' Please enter the integer value of your portfolio : '))"
   ]
  },
  {
   "cell_type": "code",
   "execution_count": 14,
   "metadata": {},
   "outputs": [],
   "source": [
    "position_size = value/len(df)"
   ]
  },
  {
   "cell_type": "code",
   "execution_count": 15,
   "metadata": {},
   "outputs": [
    {
     "data": {
      "text/plain": [
       "('1456452', 2884.063366336634)"
      ]
     },
     "execution_count": 15,
     "metadata": {},
     "output_type": "execute_result"
    }
   ],
   "source": [
    "portfolio_size,position_size"
   ]
  },
  {
   "cell_type": "code",
   "execution_count": 16,
   "metadata": {},
   "outputs": [],
   "source": [
    "for i in range(0,len(df.index)):\r\n",
    "    df.loc[i,'Number of Shares to Buy'] = math.floor(position_size/df['Stock Price'][i])"
   ]
  },
  {
   "cell_type": "code",
   "execution_count": 17,
   "metadata": {},
   "outputs": [
    {
     "data": {
      "text/html": [
       "<div>\n",
       "<style scoped>\n",
       "    .dataframe tbody tr th:only-of-type {\n",
       "        vertical-align: middle;\n",
       "    }\n",
       "\n",
       "    .dataframe tbody tr th {\n",
       "        vertical-align: top;\n",
       "    }\n",
       "\n",
       "    .dataframe thead th {\n",
       "        text-align: right;\n",
       "    }\n",
       "</style>\n",
       "<table border=\"1\" class=\"dataframe\">\n",
       "  <thead>\n",
       "    <tr style=\"text-align: right;\">\n",
       "      <th></th>\n",
       "      <th>Ticker</th>\n",
       "      <th>Stock Price</th>\n",
       "      <th>Market Capitalization</th>\n",
       "      <th>Number of Shares to Buy</th>\n",
       "    </tr>\n",
       "  </thead>\n",
       "  <tbody>\n",
       "    <tr>\n",
       "      <th>0</th>\n",
       "      <td>A</td>\n",
       "      <td>155.080</td>\n",
       "      <td>47058647356</td>\n",
       "      <td>18</td>\n",
       "    </tr>\n",
       "    <tr>\n",
       "      <th>1</th>\n",
       "      <td>AAL</td>\n",
       "      <td>22.020</td>\n",
       "      <td>13697949500</td>\n",
       "      <td>130</td>\n",
       "    </tr>\n",
       "    <tr>\n",
       "      <th>2</th>\n",
       "      <td>AAP</td>\n",
       "      <td>213.330</td>\n",
       "      <td>13729929363</td>\n",
       "      <td>13</td>\n",
       "    </tr>\n",
       "    <tr>\n",
       "      <th>3</th>\n",
       "      <td>AAPL</td>\n",
       "      <td>141.249</td>\n",
       "      <td>2343545365816</td>\n",
       "      <td>20</td>\n",
       "    </tr>\n",
       "    <tr>\n",
       "      <th>4</th>\n",
       "      <td>ABBV</td>\n",
       "      <td>115.400</td>\n",
       "      <td>205432296870</td>\n",
       "      <td>24</td>\n",
       "    </tr>\n",
       "    <tr>\n",
       "      <th>...</th>\n",
       "      <td>...</td>\n",
       "      <td>...</td>\n",
       "      <td>...</td>\n",
       "      <td>...</td>\n",
       "    </tr>\n",
       "    <tr>\n",
       "      <th>500</th>\n",
       "      <td>YUM</td>\n",
       "      <td>117.580</td>\n",
       "      <td>35686928114</td>\n",
       "      <td>24</td>\n",
       "    </tr>\n",
       "    <tr>\n",
       "      <th>501</th>\n",
       "      <td>ZBH</td>\n",
       "      <td>169.753</td>\n",
       "      <td>35663188582</td>\n",
       "      <td>16</td>\n",
       "    </tr>\n",
       "    <tr>\n",
       "      <th>502</th>\n",
       "      <td>ZBRA</td>\n",
       "      <td>539.068</td>\n",
       "      <td>28693278427</td>\n",
       "      <td>5</td>\n",
       "    </tr>\n",
       "    <tr>\n",
       "      <th>503</th>\n",
       "      <td>ZION</td>\n",
       "      <td>55.400</td>\n",
       "      <td>8927101668</td>\n",
       "      <td>52</td>\n",
       "    </tr>\n",
       "    <tr>\n",
       "      <th>504</th>\n",
       "      <td>ZTS</td>\n",
       "      <td>196.270</td>\n",
       "      <td>92314697471</td>\n",
       "      <td>14</td>\n",
       "    </tr>\n",
       "  </tbody>\n",
       "</table>\n",
       "<p>505 rows × 4 columns</p>\n",
       "</div>"
      ],
      "text/plain": [
       "    Ticker  Stock Price Market Capitalization Number of Shares to Buy\n",
       "0        A      155.080           47058647356                      18\n",
       "1      AAL       22.020           13697949500                     130\n",
       "2      AAP      213.330           13729929363                      13\n",
       "3     AAPL      141.249         2343545365816                      20\n",
       "4     ABBV      115.400          205432296870                      24\n",
       "..     ...          ...                   ...                     ...\n",
       "500    YUM      117.580           35686928114                      24\n",
       "501    ZBH      169.753           35663188582                      16\n",
       "502   ZBRA      539.068           28693278427                       5\n",
       "503   ZION       55.400            8927101668                      52\n",
       "504    ZTS      196.270           92314697471                      14\n",
       "\n",
       "[505 rows x 4 columns]"
      ]
     },
     "execution_count": 17,
     "metadata": {},
     "output_type": "execute_result"
    }
   ],
   "source": [
    "df"
   ]
  },
  {
   "cell_type": "markdown",
   "metadata": {},
   "source": [
    "## Writing the complete data to the XLSX file"
   ]
  },
  {
   "cell_type": "code",
   "execution_count": 18,
   "metadata": {},
   "outputs": [],
   "source": [
    "xlsxwriter = pd.ExcelWriter('recommended_trades.xlsx',engine='xlsxwriter')\r\n",
    "df.to_excel(xlsxwriter,'Recommended Trade',index=False)"
   ]
  },
  {
   "cell_type": "code",
   "execution_count": 19,
   "metadata": {},
   "outputs": [],
   "source": [
    "bg_color = '#0a0a23'\r\n",
    "fg_color = '#ffffff'\r\n",
    "string_format = xlsxwriter.book.add_format(\r\n",
    "    {\r\n",
    "        'font_color':fg_color,\r\n",
    "        'bg_color':bg_color,\r\n",
    "        'border': 1\r\n",
    "    }\r\n",
    ")\r\n",
    "\r\n",
    "dollar_format = xlsxwriter.book.add_format(\r\n",
    "    {\r\n",
    "        'num_format':'$0.00',\r\n",
    "        'font_color':fg_color,\r\n",
    "        'bg_color':bg_color,\r\n",
    "        'border': 1\r\n",
    "    }\r\n",
    ")\r\n",
    "\r\n",
    "int_format = xlsxwriter.book.add_format(\r\n",
    "    {\r\n",
    "        'num_format':'0.00',\r\n",
    "        'font_color':fg_color,\r\n",
    "        'bg_color':bg_color,\r\n",
    "        'border': 1\r\n",
    "    }\r\n",
    ")"
   ]
  },
  {
   "cell_type": "code",
   "execution_count": 20,
   "metadata": {},
   "outputs": [
    {
     "data": {
      "text/plain": [
       "0"
      ]
     },
     "execution_count": 20,
     "metadata": {},
     "output_type": "execute_result"
    }
   ],
   "source": [
    "xlsxwriter.sheets['Recommended Trade'].set_column('A:A',18,string_format)"
   ]
  },
  {
   "cell_type": "code",
   "execution_count": 21,
   "metadata": {},
   "outputs": [
    {
     "data": {
      "text/plain": [
       "0"
      ]
     },
     "execution_count": 21,
     "metadata": {},
     "output_type": "execute_result"
    }
   ],
   "source": [
    "xlsxwriter.sheets['Recommended Trade'].set_column('B:B',18,dollar_format)"
   ]
  },
  {
   "cell_type": "code",
   "execution_count": 22,
   "metadata": {},
   "outputs": [
    {
     "data": {
      "text/plain": [
       "0"
      ]
     },
     "execution_count": 22,
     "metadata": {},
     "output_type": "execute_result"
    }
   ],
   "source": [
    "xlsxwriter.sheets['Recommended Trade'].set_column('C:C',18,int_format)"
   ]
  },
  {
   "cell_type": "code",
   "execution_count": 23,
   "metadata": {},
   "outputs": [
    {
     "data": {
      "text/plain": [
       "0"
      ]
     },
     "execution_count": 23,
     "metadata": {},
     "output_type": "execute_result"
    }
   ],
   "source": [
    "xlsxwriter.sheets['Recommended Trade'].set_column('D:D',18,int_format)"
   ]
  },
  {
   "cell_type": "code",
   "execution_count": 24,
   "metadata": {},
   "outputs": [],
   "source": [
    "column_format = {\r\n",
    "    'A':['Ticker',string_format],\r\n",
    "    'B':['Stock Price',dollar_format],\r\n",
    "    'C':['Market Capitalization',int_format],\r\n",
    "    'D':['Number of Share to Buy',int_format]\r\n",
    "}"
   ]
  },
  {
   "cell_type": "code",
   "execution_count": 25,
   "metadata": {},
   "outputs": [],
   "source": [
    "for column in column_format.keys():\r\n",
    "    xlsxwriter.sheets['Recommended Trade'].set_column(f'{column}:{column}', 20, column_format[column][1])\r\n",
    "    xlsxwriter.sheets['Recommended Trade'].write(f'{column}1', column_format[column][0], string_format)"
   ]
  },
  {
   "cell_type": "code",
   "execution_count": 26,
   "metadata": {},
   "outputs": [],
   "source": [
    "xlsxwriter.save()"
   ]
  }
 ],
 "metadata": {
  "interpreter": {
   "hash": "ac59ebe37160ed0dfa835113d9b8498d9f09ceb179beaac4002f036b9467c963"
  },
  "kernelspec": {
   "display_name": "Python 3.9.5 64-bit",
   "name": "python3"
  },
  "language_info": {
   "codemirror_mode": {
    "name": "ipython",
    "version": 3
   },
   "file_extension": ".py",
   "mimetype": "text/x-python",
   "name": "python",
   "nbconvert_exporter": "python",
   "pygments_lexer": "ipython3",
   "version": "3.9.5"
  },
  "orig_nbformat": 4
 },
 "nbformat": 4,
 "nbformat_minor": 2
}